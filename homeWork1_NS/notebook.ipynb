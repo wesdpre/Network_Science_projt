{
 "cells": [
  {
   "cell_type": "markdown",
   "metadata": {},
   "source": [
    "# **Erdos-Renyi Model**"
   ]
  },
  {
   "cell_type": "markdown",
   "metadata": {},
   "source": [
    "## **Ex 4)**\n",
    "\n",
    "**Question**:\n",
    "\n",
    "Write code for generating a random network following the G(n,p) Erdos-Renyi model, that is,\n",
    "a network with n nodes, where each pair of nodes has probability p of being connected.\n",
    "Include as attached files, two random networks random1.txt and random2.txt generated respectively\n",
    "with n = 2000, p = 0.0001 and n = 2000, p = 0.005 (in the described format)."
   ]
  },
  {
   "cell_type": "markdown",
   "metadata": {},
   "source": [
    "**Answer**: \n",
    "We can solve this exercise in two ways:\n",
    "- 1st by creating our own code, in this case it was created in the file \"random_network.py\""
   ]
  },
  {
   "cell_type": "code",
   "execution_count": null,
   "metadata": {},
   "outputs": [],
   "source": [
    "from src.random_erdos_renyi_network import generate_erdos_renyi\n",
    "\n",
    "# Generate a Network Erdos Renyi and save\n",
    "graph1 = generate_erdos_renyi(n=2000, p=0.0001, filename=\"data/random1.txt\")\n",
    "graph2 = generate_erdos_renyi(n=2000, p=0.005, filename=\"data/random2.txt\")"
   ]
  },
  {
   "cell_type": "markdown",
   "metadata": {},
   "source": [
    "- 2nd we can also create a random network following Erdos-Renyi Model using the [networkx](https://networkx.org/documentation/stable/reference/generated/networkx.generators.random_graphs.erdos_renyi_graph.html#rf62e773f8347-2) library which contains a specific function for this purpose \n",
    "\n",
    "ps. Networkx recommends using another function that is not as complex. [fast_gnp_random_graph](https://networkx.org/documentation/stable/reference/generated/networkx.generators.random_graphs.fast_gnp_random_graph.html#networkx.generators.random_graphs.fast_gnp_random_graph)"
   ]
  },
  {
   "cell_type": "code",
   "execution_count": null,
   "metadata": {},
   "outputs": [],
   "source": [
    "import networkx as nx\n",
    "from src.load_save_network import save_network_nx\n",
    "\n",
    "graph1 = nx.erdos_renyi_graph(n=2000, p=0.0001)\n",
    "graph2 = nx.erdos_renyi_graph(n=2000, p=0.005)\n",
    "\n",
    "# Save the graphs to files\n",
    "save_network_nx(graph1, \"data/random1.txt\")\n",
    "save_network_nx(graph2, \"data/random2.txt\")"
   ]
  },
  {
   "cell_type": "markdown",
   "metadata": {},
   "source": [
    "## **ex 5)** \n",
    "\n",
    "**Question**:\n",
    "\n",
    "Write code for computing the size of the giant component of a given network.\n",
    "Use it to compute the size of giant component of the two random networks you generated (random1.txt\n",
    "and random2.txt), and show the obtained results.\n",
    "Hint: you can use any graph method traversal to compute the giant component, such as breadth-first\n",
    "search (BFS) or depth-first search (DFS). Take care to implement an O(n) algorithm that only passes\n",
    "trough each node once.\n"
   ]
  },
  {
   "cell_type": "markdown",
   "metadata": {},
   "source": [
    "**Answer**: \n",
    "\n",
    "We try to solve this exercise in 3 different ways, there was a problem all give different values:\n",
    "\n",
    "after loading graph\n",
    "\n",
    "- 1st attempt creating our own code following the description on slide 10 of [Measuring Networks and\n",
    "Random Graph Models](https://www.dcc.fc.up.pt/~pribeiro/aulas/ns2425/2_graphmodels.pdf)"
   ]
  },
  {
   "cell_type": "code",
   "execution_count": null,
   "metadata": {},
   "outputs": [],
   "source": [
    "from src.load_save_network import load_network_advanced\n",
    "\n",
    "graph1 = load_network_advanced(\"data/random1.txt\", undirected_graph=False)\n",
    "graph2 = load_network_advanced(\"data/random2.txt\", undirected_graph=False)"
   ]
  },
  {
   "cell_type": "code",
   "execution_count": null,
   "metadata": {},
   "outputs": [],
   "source": [
    "from src.giant_component import giant_component_size\n",
    "\n",
    "giant3 = giant_component_size(graph1)\n",
    "giant4 = giant_component_size(graph2)\n",
    "\n",
    "print(\"giant component size of random1 using model described in the slides =\", giant3)\n",
    "print(\"giant component size of random2 using model described in the slides =\", giant4)"
   ]
  },
  {
   "cell_type": "markdown",
   "metadata": {},
   "source": [
    "- 2nd attempt creating our own code for a more efficient code by eliminating already visited clusters so that we don't need to do a search if a node has been visited."
   ]
  },
  {
   "cell_type": "code",
   "execution_count": null,
   "metadata": {},
   "outputs": [],
   "source": [
    "from src.giant_component import giant_component_size_TryRemove\n",
    "\n",
    "# Find the giant component of the first graph\n",
    "giant1 = giant_component_size_TryRemove(graph1)\n",
    "# Find the giant component of the second graph\n",
    "giant2 = giant_component_size_TryRemove(graph2)\n",
    "print(\"giant component size of random1 using TryRemove =\", giant1)\n",
    "print(\"giant component size of random2 using TryRemove =\", giant2)"
   ]
  },
  {
   "cell_type": "markdown",
   "metadata": {},
   "source": [
    "- The 3rd attempt was made after analyzing the results of the previous attempts in the hope of confirming the results. We used the networkx library to find the size of the giant component, but the result goes against previous results"
   ]
  },
  {
   "cell_type": "code",
   "execution_count": null,
   "metadata": {},
   "outputs": [],
   "source": [
    "import networkx as nx\n",
    "import os\n",
    "\n",
    "def load_network(filename):\n",
    "    \"\"\"Loads a network from a file into a NetworkX graph.\"\"\"\n",
    "    if not os.path.exists(filename):\n",
    "        raise FileNotFoundError(f\"File {filename} not found.\")\n",
    "\n",
    "    graph = nx.Graph()\n",
    "    with open(filename, 'r') as f:\n",
    "        for line in f:\n",
    "            u, v = map(int, line.strip().split())\n",
    "            graph.add_edge(u, v)\n",
    "    return graph\n",
    "\n",
    "G1 = load_network(\"random1.txt\")\n",
    "G2 = load_network(\"random2.txt\")\n",
    "\n",
    "# Find the largest connected component\n",
    "giant_component_1 = max(nx.connected_components(G1), key=len)\n",
    "giant_component_2 = max(nx.connected_components(G2), key=len)\n",
    "\n",
    "# Create subgraphs from the largest components\n",
    "giant_nx_1 = G1.subgraph(giant_component_1)\n",
    "giant_nx_2 = G2.subgraph(giant_component_2)\n",
    "\n",
    "print(\"Giant component size of random1 using NetworkX =\", len(giant_nx_1))\n",
    "print(\"Giant component size of random2 using NetworkX =\", len(giant_nx_2))"
   ]
  },
  {
   "cell_type": "markdown",
   "metadata": {},
   "source": [
    "## **ex 6)**\n",
    "\n",
    "**Question**:\n",
    "\n",
    "The following is an exercise to study the emergence of a giant component.\n",
    "Combining your previous code, generate a series of random networks with n = 2000 and p varying\n",
    "from 0.0001 to 0.005 (with steps of 0.0001).\n",
    "\n",
    "Show a plot of your results, with the X axis representing p and the Y axis representing the size of the\n",
    "giant component.\n",
    "\n",
    "Was the plot what you were expecting? What is the shape of it? At what average degree values do\n",
    "you notice something happening?"
   ]
  },
  {
   "cell_type": "markdown",
   "metadata": {},
   "source": [
    "**Answer**: \n",
    "\n",
    "s"
   ]
  },
  {
   "cell_type": "code",
   "execution_count": null,
   "metadata": {},
   "outputs": [],
   "source": [
    "import numpy as np\n",
    "from src.random_erdos_renyi_network import generate_erdos_renyi\n",
    "from src.load_save_network import load_network_advanced\n",
    "import matplotlib.pyplot as plt\n",
    "\n",
    "def plot_giant_component(p_start, p_stop, p_step, n, filename, giant_component_func):\n",
    "    p_array_values = np.arange(p_start, p_stop, p_step)\n",
    "    #print(f\"p_array_values = {p_array_values}\")\n",
    "    \n",
    "    giant_sizes_array = []\n",
    "    for p in p_array_values:\n",
    "        #print(f\"p = {p:4f}\")\n",
    "        graph = generate_erdos_renyi(n=n, p=p, filename=filename, file_remove=True)\n",
    "        graph = load_network_advanced(filename)\n",
    "        giant_size = giant_component_func(graph)\n",
    "        giant_sizes_array.append(giant_size)\n",
    "        #print(f\"Giant component size for p={p:4f}: {giant_size}\")\n",
    "    \n",
    "    # Plot results\n",
    "    plt.figure(figsize=(8,6))\n",
    "    plt.plot(p_array_values, giant_sizes_array, marker='o', linestyle='-', color='b')\n",
    "    plt.xlabel(\"p\")\n",
    "    plt.ylabel(\" the size of the giant component\")\n",
    "    plt.title(\"A plot the results of Giant Component in an Erdős-Rényi Network\")\n",
    "    plt.grid()\n",
    "    plt.show()\n",
    "\n"
   ]
  },
  {
   "cell_type": "code",
   "execution_count": null,
   "metadata": {},
   "outputs": [],
   "source": [
    "from src.giant_component import giant_component_size\n",
    "\n",
    "p_start = 0.0001\n",
    "p_stop = 0.005\n",
    "p_step = 0.0001\n",
    "n = 2000\n",
    "\n",
    "plot_giant_component(p_start, p_stop, p_step, n, \"random.txt\", giant_component_size)\n"
   ]
  },
  {
   "cell_type": "markdown",
   "metadata": {},
   "source": [
    "# **Barabasi-Albert Model**"
   ]
  },
  {
   "cell_type": "markdown",
   "metadata": {},
   "source": [
    "## **ex 7)**\n",
    "\n",
    "**Question**:\n",
    "\n",
    "Write code for generating a random network following the $BAn,m0,m$ [Barab´asi-Albert model](https://en.wikipedia.org/wiki/Barab%C3%A1si%E2%80%93Albert_model).\n",
    "\n",
    "This model uses a preferential attachment mechanism and it works in the following way ([some hints](https://www.dcc.fc.up.pt/~pribeiro/aulas/ns2425/homework/bamodel.pdf)):\n",
    "\n",
    "- You begin with a fully connected network containing m0 nodes\n",
    "- In each iteration (until you reach a total $n$ nodes) you add one new node connected to m existing nodes, with a probability proportional to the number of already existing connections of previous nodes. Formally, the probability $p_i$ that the new node is connected to node $i$ is:\n",
    "\n",
    "$$\n",
    "p_i =\\frac{k_i} {\\sum_{j} k_i }\n",
    "$$\n",
    "\n",
    "$k_i$ is the degree of node i and the sum is made over the degrees of all existing nodes.\n",
    "\n",
    "Include as attached files, two barab´asi-albert networks ba1.txt and ba2.txt generated respectively\n",
    "with $n = 2000$, $m0 = 3$, $m = 1$ and $n = 2000$, $m0 = 5$, $m = 2$ (in the described format)."
   ]
  },
  {
   "cell_type": "markdown",
   "metadata": {},
   "source": [
    "**Answer**:\n",
    "\n",
    "it was created a file barabasi_albert where we can generate a Barabasi-Albert Model"
   ]
  },
  {
   "cell_type": "code",
   "execution_count": null,
   "metadata": {},
   "outputs": [],
   "source": [
    "from src.load_save_network import save_graph_network\n",
    "from src.barabasi_albert import generate_barabasi_albert\n",
    "\n",
    "save_graph_network(generate_barabasi_albert(n = 2000, m0=3, m=1, random_seed=42), \"data/ba1.txt\")\n",
    "save_graph_network(generate_barabasi_albert(n = 2000, m0=5, m=2, random_seed=42), \"data/ba2.txt\")"
   ]
  },
  {
   "cell_type": "markdown",
   "metadata": {},
   "source": [
    "## **ex 8)**\n",
    "\n",
    "**Question**:\n",
    "\n",
    "The previous process should generate a scale-free network with a power law degree distribution with\n",
    "exponent $α = 3$.\n",
    "\n",
    "**Plot the degree distribution** of both your generated networks using **cumulative binning** ([see\n",
    "slides 102 and 103](https://www.dcc.fc.up.pt/~pribeiro/aulas/ns2425/2_graphmodels.pdf)) and try to fit with the corresponding power law function (showing it in the plot)."
   ]
  },
  {
   "cell_type": "markdown",
   "metadata": {},
   "source": [
    "**Answer**: \n",
    "\n",
    "$$\n",
    "\n",
    "$$"
   ]
  },
  {
   "cell_type": "code",
   "execution_count": null,
   "metadata": {},
   "outputs": [],
   "source": [
    "def cumulative_distribution(a):\n",
    "    \"\"\"Compute the cumulative distribution function (CDF) of a.\"\"\"\n",
    "    sorted_a = np.sort(a)[::-1]\n",
    "    cdf = np.arange(1, len(a) + 1) / len(a)   # [1, n-1/n , n-2/n, ... , 1/n], n = len(degrees)\n",
    "    return sorted_a, cdf\n",
    "\n",
    "# Power-law \n",
    "def power_law(x, a, c):\n",
    "    \"\"\"Power law function for fitting.\"\"\"\n",
    "    return (c/1-a)  * x ** (-(a-1))"
   ]
  },
  {
   "cell_type": "code",
   "execution_count": null,
   "metadata": {},
   "outputs": [],
   "source": [
    "from src.load_save_network import load_network_advanced\n",
    "import numpy as np\n",
    "import matplotlib.pyplot as plt\n",
    "import collections\n",
    "import scipy.optimize\n",
    "import os\n",
    "\n",
    "# Load the Barabási-Albert graphs\n",
    "graph1 = load_network_advanced(\"data/ba1.txt\")\n",
    "graph2 = load_network_advanced(\"data/ba2.txt\")\n",
    "\n",
    "# Compute degrees of each node\n",
    "degrees1 = [len(graph1[node]) for node in graph1]\n",
    "np.array(degrees1)\n",
    "degrees2 = [len(graph2[node]) for node in graph2]\n",
    "np.array(degrees2)\n",
    "\n",
    "# Compute cumulative distributions\n",
    "sorted_degrees1, cdf1 = cumulative_distribution(degrees1)\n",
    "sorted_degrees2, cdf2 = cumulative_distribution(degrees2)\n",
    "\n",
    "# Fit power law\n",
    "params1, _ = scipy.optimize.curve_fit(power_law, sorted_degrees1, cdf1)\n",
    "params2, _ = scipy.optimize.curve_fit(power_law, sorted_degrees2, cdf2)\n"
   ]
  },
  {
   "cell_type": "code",
   "execution_count": null,
   "metadata": {},
   "outputs": [],
   "source": [
    "def plot_cdf(sorted_degrees, cdf, params, title):\n",
    "    \"\"\"Plot the cumulative distribution function (CDF) with fitted power law.\"\"\"\n",
    "    plt.figure(figsize=(8, 6))\n",
    "    plt.plot(sorted_degrees, cdf, 'o', label='CDF')\n",
    "    plt.plot(sorted_degrees, power_law(sorted_degrees, *params), 'r-', label='Fitted Power Law fit: a=%5.3f, c=%5.3f' % tuple(params))\n",
    "    plt.xlabel('Degree (scale)')\n",
    "    plt.ylabel('Cumulative Probability (scale)')\n",
    "    plt.title(title)\n",
    "    plt.legend()\n",
    "    plt.grid()\n",
    "    plt.show()\n",
    "    \n",
    "def plot_cdf_log(sorted_degrees, cdf, params, title):\n",
    "    \"\"\"Plot the cumulative distribution function (CDF) with fitted power law.\"\"\"\n",
    "    plt.figure(figsize=(8, 6))\n",
    "    plt.plot(sorted_degrees, cdf, 'o', label='CDF')\n",
    "    plt.plot(sorted_degrees, power_law(sorted_degrees, *params), 'r-', label='Fitted Power Law: a=%5.3f, c=%5.3f' % tuple(params))\n",
    "    plt.xscale('log')\n",
    "    plt.yscale('log')\n",
    "    plt.xlabel('Degree (log scale)')\n",
    "    plt.ylabel('Cumulative Probability (log scale)')\n",
    "    plt.title(title)\n",
    "    plt.legend()\n",
    "    plt.grid()\n",
    "    plt.show()"
   ]
  },
  {
   "cell_type": "code",
   "execution_count": null,
   "metadata": {},
   "outputs": [],
   "source": [
    "plot_cdf(sorted_degrees1, cdf1, params1, \"Cumulative Distribution Function for Barabási-Albert Graph 1\")"
   ]
  },
  {
   "cell_type": "code",
   "execution_count": null,
   "metadata": {},
   "outputs": [],
   "source": [
    "plot_cdf_log(sorted_degrees1, cdf1, params1, \"Log of Cumulative Distribution Function for Barabási-Albert Graph 1\")"
   ]
  },
  {
   "cell_type": "code",
   "execution_count": null,
   "metadata": {},
   "outputs": [],
   "source": [
    "plot_cdf(sorted_degrees2, cdf2, params2, \"Cumulative Distribution Function for Barabási-Albert Graph 2\")"
   ]
  },
  {
   "cell_type": "code",
   "execution_count": null,
   "metadata": {},
   "outputs": [],
   "source": [
    "plot_cdf_log(sorted_degrees2, cdf2, params2, \"Log of Cumulative Distribution Function for Barabási-Albert Graph 2\")"
   ]
  }
 ],
 "metadata": {
  "kernelspec": {
   "display_name": "NLP",
   "language": "python",
   "name": "python3"
  },
  "language_info": {
   "codemirror_mode": {
    "name": "ipython",
    "version": 3
   },
   "file_extension": ".py",
   "mimetype": "text/x-python",
   "name": "python",
   "nbconvert_exporter": "python",
   "pygments_lexer": "ipython3",
   "version": "3.12.9"
  }
 },
 "nbformat": 4,
 "nbformat_minor": 2
}
