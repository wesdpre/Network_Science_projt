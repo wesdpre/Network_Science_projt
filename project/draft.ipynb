{
 "cells": [
  {
   "cell_type": "markdown",
   "id": "104ed584",
   "metadata": {},
   "source": [
    "## **Network Science Project (M.IA019, ...)**\n",
    "# **PageRank, Communities and Subgraph Patterns**\n",
    "\n",
    "### **Students:**\n",
    "- Pedro Azevedo, up201905966@up.pt, \n",
    "    - University of Porto Faculty of Engineering (FEUP), Master in Artificial Intelligence (ME55) \n",
    "- Davi Santos, up202310061@up.pt\n",
    "    - University of Porto ... \n",
    "- André Regufe, up202107760@up.pt\n",
    "    - University of Porto ...\n",
    "\n",
    "### Work can be located in [here](https://github.com/wesdpre/Network_Science_projt)\n",
    "\n",
    "### Network [yelp-user-business](https://networkrepository.com/rec-yelp-user-business.php) from networkrepository"
   ]
  },
  {
   "cell_type": "markdown",
   "id": "f497b9e3",
   "metadata": {},
   "source": [
    "# EDA"
   ]
  },
  {
   "cell_type": "markdown",
   "id": "4125cff5",
   "metadata": {},
   "source": [
    "## 1: Network Measures"
   ]
  },
  {
   "cell_type": "markdown",
   "id": "66897901",
   "metadata": {},
   "source": [
    "### 1.1 Degree Distribution."
   ]
  },
  {
   "cell_type": "markdown",
   "id": "ff431ecb",
   "metadata": {},
   "source": [
    "### 1.2 Average Path Length."
   ]
  },
  {
   "cell_type": "markdown",
   "id": "3692afc6",
   "metadata": {},
   "source": [
    "### 1.3 Density"
   ]
  },
  {
   "cell_type": "markdown",
   "id": "092a54e0",
   "metadata": {},
   "source": [
    "### 1.4 Network Diameter."
   ]
  },
  {
   "cell_type": "markdown",
   "id": "624358b7",
   "metadata": {},
   "source": [
    "### 1.5 Clustering Coefficient"
   ]
  },
  {
   "cell_type": "markdown",
   "id": "996d8f16",
   "metadata": {},
   "source": [
    "### 1.6 Assortativity"
   ]
  },
  {
   "cell_type": "markdown",
   "id": "f7c921b8",
   "metadata": {},
   "source": [
    "## 2: Centrality Measures"
   ]
  },
  {
   "cell_type": "markdown",
   "id": "93fb19dd",
   "metadata": {},
   "source": [
    "### 2.1 Degree Centrality."
   ]
  },
  {
   "cell_type": "markdown",
   "id": "10f584aa",
   "metadata": {},
   "source": [
    "### 2.2 Betweenness Centrality"
   ]
  },
  {
   "cell_type": "markdown",
   "id": "34e4ed83",
   "metadata": {},
   "source": [
    "### 2.3  Closeness Centrality."
   ]
  },
  {
   "cell_type": "markdown",
   "id": "81c90d16",
   "metadata": {},
   "source": [
    "### 2.4  Eigenvector Centrality."
   ]
  },
  {
   "cell_type": "markdown",
   "id": "989afae7",
   "metadata": {},
   "source": [
    "### 2.5  Power Law"
   ]
  },
  {
   "cell_type": "markdown",
   "id": "615fad34",
   "metadata": {},
   "source": [
    "### 2.6 PageRank"
   ]
  },
  {
   "cell_type": "markdown",
   "id": "436a4b6f",
   "metadata": {},
   "source": [
    "## 3: CommunityStructure Discovery"
   ]
  },
  {
   "cell_type": "markdown",
   "id": "172ad2ae",
   "metadata": {},
   "source": [
    "### 3.1  Introduction to Community Structure Discovery."
   ]
  },
  {
   "cell_type": "markdown",
   "id": "bcb0fdf0",
   "metadata": {},
   "source": [
    "### 3.2  Community Detection Algorithms."
   ]
  },
  {
   "cell_type": "markdown",
   "id": "1b4637cd",
   "metadata": {},
   "source": [
    "### 3.2  Community Structure Analysis."
   ]
  },
  {
   "cell_type": "markdown",
   "id": "015ee972",
   "metadata": {},
   "source": [
    "### 3.2  Community Detection Algorithms."
   ]
  },
  {
   "cell_type": "markdown",
   "id": "be6d3a08",
   "metadata": {},
   "source": [
    "## 4: Subgraph Patterns Discovery"
   ]
  },
  {
   "cell_type": "markdown",
   "id": "385b5250",
   "metadata": {},
   "source": [
    "### 4.1  Introduction to Subgraph Patterns."
   ]
  },
  {
   "cell_type": "markdown",
   "id": "5ef17c1b",
   "metadata": {},
   "source": [
    "### 4.2  Identification of Subgraph Patterns."
   ]
  },
  {
   "cell_type": "markdown",
   "id": "2ab85005",
   "metadata": {},
   "source": [
    "## 5: Association Rules"
   ]
  },
  {
   "cell_type": "markdown",
   "id": "9483973f",
   "metadata": {},
   "source": [
    "### 5.1 Introduction to Association Rules in Co-Purchasing Networks"
   ]
  },
  {
   "cell_type": "markdown",
   "id": "6fbdeb21",
   "metadata": {},
   "source": [
    "### 5.2 Rule Generation and Evaluation."
   ]
  }
 ],
 "metadata": {
  "language_info": {
   "name": "python"
  }
 },
 "nbformat": 4,
 "nbformat_minor": 5
}
