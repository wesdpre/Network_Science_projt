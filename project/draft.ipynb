{
 "cells": [
  {
   "cell_type": "markdown",
   "id": "104ed584",
   "metadata": {},
   "source": [
    "## **Network Science Project (M.IA019, ...)**\n",
    "# **PageRank, Communities and Subgraph Patterns**\n",
    "\n",
    "### **Students:**\n",
    "- Pedro Azevedo, up201905966@up.pt, \n",
    "    - University of Porto Faculty of Engineering (FEUP), Master in Artificial Intelligence (ME55) \n",
    "- Davi Santos, up202310061@up.pt\n",
    "    - University of Porto ... \n",
    "- André Regufe, up202107760@up.pt\n",
    "    - University of Porto ...\n",
    "\n",
    "### Work can be located in [here](https://github.com/wesdpre/Network_Science_projt)\n",
    "\n",
    "### Network [yelp-user-business](https://networkrepository.com/rec-yelp-user-business.php) from networkrepository"
   ]
  },
  {
   "cell_type": "markdown",
   "id": "a3f546c4",
   "metadata": {},
   "source": [
    "# Initiate the network"
   ]
  },
  {
   "cell_type": "code",
   "execution_count": 10,
   "id": "53678982",
   "metadata": {},
   "outputs": [],
   "source": [
    "import networkx as nx\n",
    "import matplotlib.pyplot as plt\n",
    "from collections import Counter\n",
    "\n",
    "import os"
   ]
  },
  {
   "cell_type": "code",
   "execution_count": 21,
   "id": "d130a803",
   "metadata": {},
   "outputs": [
    {
     "name": "stdout",
     "output_type": "stream",
     "text": [
      "Graph loaded successfully!\n",
      "Number of nodes: 50395\n",
      "Number of edges: 229636\n",
      "\n",
      "First 5 nodes: ['1', '3', '4136', '4', '27']\n",
      "First 5 edges: [('1', '1'), ('3', '3'), ('3', '4136'), ('3', '19'), ('3', '28')]\n"
     ]
    }
   ],
   "source": [
    "# Load graph yelp user business\n",
    "\n",
    "# Path to your downloaded .txt.gz file\n",
    "file_path = os.path.join( \"data\", \"rec-yelp-user-business\", \"rec-yelp-user-business.edges\")\n",
    "\n",
    "try:\n",
    "    G = nx.read_edgelist(file_path, data=(('weight', float),))\n",
    "\n",
    "    print(f\"Graph loaded successfully!\")\n",
    "    print(f\"Number of nodes: {G.number_of_nodes()}\")\n",
    "    print(f\"Number of edges: {G.number_of_edges()}\")\n",
    "\n",
    "    # You can inspect a few nodes and edges\n",
    "    print(\"\\nFirst 5 nodes:\", list(G.nodes())[:5])\n",
    "    print(\"First 5 edges:\", list(G.edges())[:5])\n",
    "\n",
    "except FileNotFoundError:\n",
    "    print(f\"Error: The file '{file_path}' was not found. Please make sure you have downloaded it to the correct directory.\")\n",
    "except Exception as e:\n",
    "    print(f\"An error occurred: {e}\")\n"
   ]
  },
  {
   "cell_type": "markdown",
   "id": "f497b9e3",
   "metadata": {},
   "source": [
    "# EDA"
   ]
  },
  {
   "cell_type": "markdown",
   "id": "4125cff5",
   "metadata": {},
   "source": [
    "## 1: Network Measures"
   ]
  },
  {
   "cell_type": "markdown",
   "id": "66897901",
   "metadata": {},
   "source": [
    "### 1.1 Degree Distribution."
   ]
  },
  {
   "cell_type": "code",
   "execution_count": 22,
   "id": "b5536519",
   "metadata": {},
   "outputs": [],
   "source": [
    "# Compute degrees\n",
    "degrees = [deg for node, deg in G.degree()]\n",
    "degree_counts = Counter(degrees)\n",
    "total_nodes = G.number_of_nodes()\n",
    "normalized_distribution = {k: v / total_nodes for k, v in degree_counts.items()}"
   ]
  },
  {
   "cell_type": "code",
   "execution_count": 23,
   "id": "07698fe0",
   "metadata": {},
   "outputs": [
    {
     "name": "stdout",
     "output_type": "stream",
     "text": [
      "degrees frequency: Counter({1: 21682, 2: 6693, 3: 4502, 4: 2997, 5: 2093, 6: 1551, 7: 1277, 8: 911, 9: 749, 10: 609, 11: 496, 12: 437, 13: 382, 14: 325, 15: 284, 16: 264, 18: 213, 17: 213, 20: 203, 19: 182, 21: 175, 22: 174, 23: 157, 24: 141, 27: 120, 29: 119, 28: 111, 25: 109, 26: 107, 31: 93, 30: 87, 32: 77, 33: 75, 34: 72, 37: 71, 38: 70, 42: 67, 39: 65, 35: 65, 36: 62, 41: 59, 47: 50, 50: 48, 43: 48, 40: 47, 54: 44, 52: 39, 46: 37, 44: 37, 57: 36, 56: 36, 48: 36, 53: 36, 49: 35, 58: 34, 45: 34, 64: 31, 59: 31, 51: 31, 66: 29, 65: 28, 62: 27, 68: 26, 80: 25, 61: 25, 72: 25, 63: 25, 71: 24, 79: 23, 84: 23, 77: 23, 60: 22, 70: 22, 55: 22, 78: 21, 85: 21, 75: 21, 69: 21, 88: 17, 82: 17, 76: 17, 81: 17, 92: 16, 86: 16, 87: 16, 96: 16, 67: 16, 100: 16, 90: 16, 94: 15, 74: 15, 95: 14, 110: 14, 83: 14, 102: 13, 105: 13, 91: 13, 73: 12, 99: 12, 89: 12, 108: 12, 101: 11, 129: 11, 131: 11, 113: 11, 107: 11, 115: 11, 121: 11, 112: 11, 114: 10, 93: 10, 145: 10, 120: 10, 117: 9, 106: 9, 118: 9, 126: 8, 123: 8, 153: 8, 128: 8, 143: 8, 130: 8, 134: 8, 141: 8, 133: 8, 156: 8, 103: 8, 136: 8, 116: 7, 124: 7, 194: 7, 125: 7, 185: 7, 178: 7, 158: 7, 98: 7, 109: 7, 119: 7, 104: 6, 135: 6, 170: 6, 154: 6, 163: 6, 177: 6, 166: 6, 144: 6, 149: 6, 132: 6, 111: 6, 137: 6, 160: 5, 151: 5, 140: 5, 165: 5, 184: 5, 197: 5, 142: 5, 212: 5, 219: 4, 150: 4, 162: 4, 276: 4, 189: 4, 183: 4, 241: 4, 223: 4, 213: 4, 198: 4, 97: 4, 164: 4, 139: 4, 243: 4, 171: 4, 187: 4, 218: 4, 146: 4, 169: 4, 261: 4, 127: 4, 263: 3, 193: 3, 175: 3, 240: 3, 122: 3, 210: 3, 229: 3, 182: 3, 227: 3, 244: 3, 294: 3, 167: 3, 173: 3, 268: 3, 148: 3, 231: 3, 205: 3, 168: 3, 203: 3, 138: 3, 186: 3, 260: 2, 247: 2, 427: 2, 280: 2, 348: 2, 293: 2, 195: 2, 159: 2, 192: 2, 188: 2, 346: 2, 221: 2, 191: 2, 255: 2, 362: 2, 190: 2, 251: 2, 206: 2, 334: 2, 350: 2, 202: 2, 161: 2, 254: 2, 204: 2, 432: 2, 207: 2, 365: 2, 155: 2, 216: 2, 147: 2, 174: 2, 236: 2, 239: 2, 360: 2, 482: 2, 464: 2, 157: 2, 217: 2, 200: 2, 316: 2, 228: 2, 253: 2, 252: 2, 179: 2, 258: 2, 152: 2, 180: 2, 429: 1, 466: 1, 278: 1, 501: 1, 505: 1, 560: 1, 846: 1, 590: 1, 459: 1, 313: 1, 389: 1, 711: 1, 237: 1, 284: 1, 356: 1, 256: 1, 296: 1, 272: 1, 502: 1, 299: 1, 542: 1, 364: 1, 454: 1, 257: 1, 625: 1, 317: 1, 760: 1, 824: 1, 394: 1, 648: 1, 740: 1, 513: 1, 370: 1, 522: 1, 381: 1, 298: 1, 304: 1, 246: 1, 576: 1, 329: 1, 201: 1, 438: 1, 245: 1, 306: 1, 494: 1, 584: 1, 458: 1, 275: 1, 172: 1, 539: 1, 283: 1, 374: 1, 318: 1, 357: 1, 308: 1, 288: 1, 347: 1, 230: 1, 376: 1, 266: 1, 358: 1, 339: 1, 424: 1, 333: 1, 233: 1, 215: 1, 286: 1, 425: 1, 270: 1, 507: 1, 281: 1, 309: 1, 290: 1, 343: 1, 295: 1, 446: 1, 209: 1, 302: 1, 181: 1, 359: 1, 551: 1, 279: 1, 315: 1, 430: 1, 354: 1, 226: 1, 337: 1, 399: 1, 413: 1, 285: 1, 330: 1, 325: 1, 367: 1, 196: 1, 264: 1, 455: 1, 398: 1, 599: 1, 199: 1, 525: 1})\n"
     ]
    },
    {
     "data": {
      "image/png": "[encoded data removed]",
      "text/plain": [
       "<Figure size 800x500 with 1 Axes>"
      ]
     },
     "metadata": {},
     "output_type": "display_data"
    }
   ],
   "source": [
    "# Plot normalized degree distribution\n",
    "degrees_sorted = sorted(normalized_distribution)\n",
    "values_sorted = [normalized_distribution[d] for d in degrees_sorted]\n",
    "\n",
    "print(f\"degrees frequency: {degree_counts}\")\n",
    "plt.figure(figsize=(8, 5))\n",
    "plt.bar(degrees_sorted, values_sorted, color='salmon')\n",
    "plt.xlabel(\"Degree\")\n",
    "plt.ylabel(\"Normalized Frequency\")\n",
    "plt.title(\"Normalized Degree Distribution\")\n",
    "plt.grid(False)\n",
    "plt.show()"
   ]
  },
  {
   "cell_type": "code",
   "execution_count": null,
   "id": "ff14ff1c",
   "metadata": {},
   "outputs": [],
   "source": [
    "#max degrees\n",
    "print( )"
   ]
  },
  {
   "cell_type": "markdown",
   "id": "ff431ecb",
   "metadata": {},
   "source": [
    "### 1.2 Average Path Length."
   ]
  },
  {
   "cell_type": "code",
   "execution_count": 24,
   "id": "54d4a72b",
   "metadata": {},
   "outputs": [
    {
     "ename": "NetworkXError",
     "evalue": "Found infinite path length because the graph is not connected",
     "output_type": "error",
     "traceback": [
      "\u001b[1;31m---------------------------------------------------------------------------\u001b[0m",
      "\u001b[1;31mNetworkXError\u001b[0m                             Traceback (most recent call last)",
      "Cell \u001b[1;32mIn[24], line 1\u001b[0m\n\u001b[1;32m----> 1\u001b[0m diameter \u001b[38;5;241m=\u001b[39m nx\u001b[38;5;241m.\u001b[39mdiameter(G)\n\u001b[0;32m      2\u001b[0m avg_path_length \u001b[38;5;241m=\u001b[39m nx\u001b[38;5;241m.\u001b[39maverage_shortest_path_length(G)\n\u001b[0;32m      3\u001b[0m \u001b[38;5;28mprint\u001b[39m(\u001b[38;5;124m\"\u001b[39m\u001b[38;5;124mDiameter of the network:\u001b[39m\u001b[38;5;124m\"\u001b[39m, diameter)\n",
      "File \u001b[1;32m<class 'networkx.utils.decorators.argmap'> compilation 22:3\u001b[0m, in \u001b[0;36margmap_diameter_19\u001b[1;34m(G, e, usebounds, weight, backend, **backend_kwargs)\u001b[0m\n\u001b[0;32m      1\u001b[0m \u001b[38;5;28;01mimport\u001b[39;00m \u001b[38;5;21;01mbz2\u001b[39;00m\n\u001b[0;32m      2\u001b[0m \u001b[38;5;28;01mimport\u001b[39;00m \u001b[38;5;21;01mcollections\u001b[39;00m\n\u001b[1;32m----> 3\u001b[0m \u001b[38;5;28;01mimport\u001b[39;00m \u001b[38;5;21;01mgzip\u001b[39;00m\n\u001b[0;32m      4\u001b[0m \u001b[38;5;28;01mimport\u001b[39;00m \u001b[38;5;21;01minspect\u001b[39;00m\n\u001b[0;32m      5\u001b[0m \u001b[38;5;28;01mimport\u001b[39;00m \u001b[38;5;21;01mitertools\u001b[39;00m\n",
      "File \u001b[1;32mc:\\Users\\pedro\\anaconda3\\Lib\\site-packages\\networkx\\utils\\backends.py:633\u001b[0m, in \u001b[0;36m_dispatchable.__call__\u001b[1;34m(self, backend, *args, **kwargs)\u001b[0m\n\u001b[0;32m    628\u001b[0m \u001b[38;5;250m\u001b[39m\u001b[38;5;124;03m\"\"\"Returns the result of the original function, or the backend function if\u001b[39;00m\n\u001b[0;32m    629\u001b[0m \u001b[38;5;124;03mthe backend is specified and that backend implements `func`.\"\"\"\u001b[39;00m\n\u001b[0;32m    631\u001b[0m \u001b[38;5;28;01mif\u001b[39;00m \u001b[38;5;129;01mnot\u001b[39;00m backends:\n\u001b[0;32m    632\u001b[0m     \u001b[38;5;66;03m# Fast path if no backends are installed\u001b[39;00m\n\u001b[1;32m--> 633\u001b[0m     \u001b[38;5;28;01mreturn\u001b[39;00m \u001b[38;5;28mself\u001b[39m\u001b[38;5;241m.\u001b[39morig_func(\u001b[38;5;241m*\u001b[39margs, \u001b[38;5;241m*\u001b[39m\u001b[38;5;241m*\u001b[39mkwargs)\n\u001b[0;32m    635\u001b[0m \u001b[38;5;66;03m# Use `backend_name` in this function instead of `backend`\u001b[39;00m\n\u001b[0;32m    636\u001b[0m backend_name \u001b[38;5;241m=\u001b[39m backend\n",
      "File \u001b[1;32mc:\\Users\\pedro\\anaconda3\\Lib\\site-packages\\networkx\\algorithms\\distance_measures.py:381\u001b[0m, in \u001b[0;36mdiameter\u001b[1;34m(G, e, usebounds, weight)\u001b[0m\n\u001b[0;32m    379\u001b[0m     \u001b[38;5;28;01mreturn\u001b[39;00m _extrema_bounding(G, compute\u001b[38;5;241m=\u001b[39m\u001b[38;5;124m\"\u001b[39m\u001b[38;5;124mdiameter\u001b[39m\u001b[38;5;124m\"\u001b[39m, weight\u001b[38;5;241m=\u001b[39mweight)\n\u001b[0;32m    380\u001b[0m \u001b[38;5;28;01mif\u001b[39;00m e \u001b[38;5;129;01mis\u001b[39;00m \u001b[38;5;28;01mNone\u001b[39;00m:\n\u001b[1;32m--> 381\u001b[0m     e \u001b[38;5;241m=\u001b[39m eccentricity(G, weight\u001b[38;5;241m=\u001b[39mweight)\n\u001b[0;32m    382\u001b[0m \u001b[38;5;28;01mreturn\u001b[39;00m \u001b[38;5;28mmax\u001b[39m(e\u001b[38;5;241m.\u001b[39mvalues())\n",
      "File \u001b[1;32m<class 'networkx.utils.decorators.argmap'> compilation 26:3\u001b[0m, in \u001b[0;36margmap_eccentricity_23\u001b[1;34m(G, v, sp, weight, backend, **backend_kwargs)\u001b[0m\n\u001b[0;32m      1\u001b[0m \u001b[38;5;28;01mimport\u001b[39;00m \u001b[38;5;21;01mbz2\u001b[39;00m\n\u001b[0;32m      2\u001b[0m \u001b[38;5;28;01mimport\u001b[39;00m \u001b[38;5;21;01mcollections\u001b[39;00m\n\u001b[1;32m----> 3\u001b[0m \u001b[38;5;28;01mimport\u001b[39;00m \u001b[38;5;21;01mgzip\u001b[39;00m\n\u001b[0;32m      4\u001b[0m \u001b[38;5;28;01mimport\u001b[39;00m \u001b[38;5;21;01minspect\u001b[39;00m\n\u001b[0;32m      5\u001b[0m \u001b[38;5;28;01mimport\u001b[39;00m \u001b[38;5;21;01mitertools\u001b[39;00m\n",
      "File \u001b[1;32mc:\\Users\\pedro\\anaconda3\\Lib\\site-packages\\networkx\\utils\\backends.py:633\u001b[0m, in \u001b[0;36m_dispatchable.__call__\u001b[1;34m(self, backend, *args, **kwargs)\u001b[0m\n\u001b[0;32m    628\u001b[0m \u001b[38;5;250m\u001b[39m\u001b[38;5;124;03m\"\"\"Returns the result of the original function, or the backend function if\u001b[39;00m\n\u001b[0;32m    629\u001b[0m \u001b[38;5;124;03mthe backend is specified and that backend implements `func`.\"\"\"\u001b[39;00m\n\u001b[0;32m    631\u001b[0m \u001b[38;5;28;01mif\u001b[39;00m \u001b[38;5;129;01mnot\u001b[39;00m backends:\n\u001b[0;32m    632\u001b[0m     \u001b[38;5;66;03m# Fast path if no backends are installed\u001b[39;00m\n\u001b[1;32m--> 633\u001b[0m     \u001b[38;5;28;01mreturn\u001b[39;00m \u001b[38;5;28mself\u001b[39m\u001b[38;5;241m.\u001b[39morig_func(\u001b[38;5;241m*\u001b[39margs, \u001b[38;5;241m*\u001b[39m\u001b[38;5;241m*\u001b[39mkwargs)\n\u001b[0;32m    635\u001b[0m \u001b[38;5;66;03m# Use `backend_name` in this function instead of `backend`\u001b[39;00m\n\u001b[0;32m    636\u001b[0m backend_name \u001b[38;5;241m=\u001b[39m backend\n",
      "File \u001b[1;32mc:\\Users\\pedro\\anaconda3\\Lib\\site-packages\\networkx\\algorithms\\distance_measures.py:320\u001b[0m, in \u001b[0;36meccentricity\u001b[1;34m(G, v, sp, weight)\u001b[0m\n\u001b[0;32m    318\u001b[0m         \u001b[38;5;28;01melse\u001b[39;00m:\n\u001b[0;32m    319\u001b[0m             msg \u001b[38;5;241m=\u001b[39m \u001b[38;5;124m\"\u001b[39m\u001b[38;5;124mFound infinite path length because the graph is not\u001b[39m\u001b[38;5;124m\"\u001b[39m \u001b[38;5;124m\"\u001b[39m\u001b[38;5;124m connected\u001b[39m\u001b[38;5;124m\"\u001b[39m\n\u001b[1;32m--> 320\u001b[0m         \u001b[38;5;28;01mraise\u001b[39;00m nx\u001b[38;5;241m.\u001b[39mNetworkXError(msg)\n\u001b[0;32m    322\u001b[0m     e[n] \u001b[38;5;241m=\u001b[39m \u001b[38;5;28mmax\u001b[39m(length\u001b[38;5;241m.\u001b[39mvalues())\n\u001b[0;32m    324\u001b[0m \u001b[38;5;28;01mif\u001b[39;00m v \u001b[38;5;129;01min\u001b[39;00m G:\n",
      "\u001b[1;31mNetworkXError\u001b[0m: Found infinite path length because the graph is not connected"
     ]
    }
   ],
   "source": [
    "diameter = nx.diameter(G)\n",
    "avg_path_length = nx.average_shortest_path_length(G)\n",
    "print(\"Diameter of the network:\", diameter)\n",
    "print(\"Average shortest path length:\", avg_path_length)"
   ]
  },
  {
   "cell_type": "markdown",
   "id": "3692afc6",
   "metadata": {},
   "source": [
    "### 1.3 Density"
   ]
  },
  {
   "cell_type": "markdown",
   "id": "092a54e0",
   "metadata": {},
   "source": [
    "### 1.4 Network Diameter."
   ]
  },
  {
   "cell_type": "markdown",
   "id": "624358b7",
   "metadata": {},
   "source": [
    "### 1.5 Clustering Coefficient"
   ]
  },
  {
   "cell_type": "markdown",
   "id": "996d8f16",
   "metadata": {},
   "source": [
    "### 1.6 Assortativity"
   ]
  },
  {
   "cell_type": "markdown",
   "id": "f7c921b8",
   "metadata": {},
   "source": [
    "## 2: Centrality Measures"
   ]
  },
  {
   "cell_type": "markdown",
   "id": "93fb19dd",
   "metadata": {},
   "source": [
    "### 2.1 Degree Centrality."
   ]
  },
  {
   "cell_type": "markdown",
   "id": "10f584aa",
   "metadata": {},
   "source": [
    "### 2.2 Betweenness Centrality"
   ]
  },
  {
   "cell_type": "markdown",
   "id": "34e4ed83",
   "metadata": {},
   "source": [
    "### 2.3  Closeness Centrality."
   ]
  },
  {
   "cell_type": "markdown",
   "id": "81c90d16",
   "metadata": {},
   "source": [
    "### 2.4  Eigenvector Centrality."
   ]
  },
  {
   "cell_type": "markdown",
   "id": "989afae7",
   "metadata": {},
   "source": [
    "### 2.5  Power Law"
   ]
  },
  {
   "cell_type": "markdown",
   "id": "615fad34",
   "metadata": {},
   "source": [
    "### 2.6 PageRank"
   ]
  },
  {
   "cell_type": "markdown",
   "id": "436a4b6f",
   "metadata": {},
   "source": [
    "## 3: CommunityStructure Discovery"
   ]
  },
  {
   "cell_type": "markdown",
   "id": "172ad2ae",
   "metadata": {},
   "source": [
    "### 3.1  Introduction to Community Structure Discovery."
   ]
  },
  {
   "cell_type": "markdown",
   "id": "bcb0fdf0",
   "metadata": {},
   "source": [
    "### 3.2  Community Detection Algorithms."
   ]
  },
  {
   "cell_type": "markdown",
   "id": "1b4637cd",
   "metadata": {},
   "source": [
    "### 3.2  Community Structure Analysis."
   ]
  },
  {
   "cell_type": "markdown",
   "id": "015ee972",
   "metadata": {},
   "source": [
    "### 3.2  Community Detection Algorithms."
   ]
  },
  {
   "cell_type": "markdown",
   "id": "be6d3a08",
   "metadata": {},
   "source": [
    "## 4: Subgraph Patterns Discovery"
   ]
  },
  {
   "cell_type": "markdown",
   "id": "385b5250",
   "metadata": {},
   "source": [
    "### 4.1  Introduction to Subgraph Patterns."
   ]
  },
  {
   "cell_type": "markdown",
   "id": "5ef17c1b",
   "metadata": {},
   "source": [
    "### 4.2  Identification of Subgraph Patterns."
   ]
  },
  {
   "cell_type": "markdown",
   "id": "2ab85005",
   "metadata": {},
   "source": [
    "## 5: Association Rules"
   ]
  },
  {
   "cell_type": "markdown",
   "id": "9483973f",
   "metadata": {},
   "source": [
    "### 5.1 Introduction to Association Rules in Co-Purchasing Networks"
   ]
  },
  {
   "cell_type": "markdown",
   "id": "6fbdeb21",
   "metadata": {},
   "source": [
    "### 5.2 Rule Generation and Evaluation."
   ]
  }
 ],
 "metadata": {
  "kernelspec": {
   "display_name": "base",
   "language": "python",
   "name": "python3"
  },
  "language_info": {
   "codemirror_mode": {
    "name": "ipython",
    "version": 3
   },
   "file_extension": ".py",
   "mimetype": "text/x-python",
   "name": "python",
   "nbconvert_exporter": "python",
   "pygments_lexer": "ipython3",
   "version": "3.12.7"
  }
 },
 "nbformat": 4,
 "nbformat_minor": 5
}
