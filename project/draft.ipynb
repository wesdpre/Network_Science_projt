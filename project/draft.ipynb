{
 "cells": [
  {
   "cell_type": "markdown",
   "id": "104ed584",
   "metadata": {},
   "source": [
    "## **Network Science Project**\n",
    "# **PageRank, Communities and Subgraph Patterns**\n",
    "\n",
    "### **Students:**\n",
    "- Pedro Azevedo, up201905966@up.pt\n",
    "- Davi Santos, up202310061@up.pt\n",
    "- André Regufe, up202107760@up.pt\n",
    "\n",
    "### Work can be located in [here](https://github.com/wesdpre/Network_Science_projt)\n",
    "\n",
    "### Network [yelp-user-business](https://networkrepository.com/rec-yelp-user-business.php) from networkrepository"
   ]
  }
 ],
 "metadata": {
  "language_info": {
   "name": "python"
  }
 },
 "nbformat": 4,
 "nbformat_minor": 5
}
