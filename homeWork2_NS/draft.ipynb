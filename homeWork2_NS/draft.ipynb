{
 "cells": [
  {
   "cell_type": "markdown",
   "id": "119c0c65",
   "metadata": {},
   "source": [
    "## **Network Science Homework 2**\n",
    "# **PageRank, Communities and Subgraph Patterns**\n",
    "\n",
    "### **Students:**\n",
    "- Pedro Azevedo, up201905966@up.pt\n",
    "- Davi Santos, up202310061@up.pt\n",
    "- André Regufe, up202107760@up.pt"
   ]
  },
  {
   "cell_type": "markdown",
   "id": "1437bbd6",
   "metadata": {},
   "source": [
    "# **Link Analysis and PageRank**"
   ]
  },
  {
   "cell_type": "code",
   "execution_count": null,
   "id": "093962dd",
   "metadata": {},
   "outputs": [],
   "source": []
  }
 ],
 "metadata": {
  "kernelspec": {
   "display_name": "NLP",
   "language": "python",
   "name": "python3"
  },
  "language_info": {
   "name": "python",
   "version": "3.12.9"
  }
 },
 "nbformat": 4,
 "nbformat_minor": 5
}
