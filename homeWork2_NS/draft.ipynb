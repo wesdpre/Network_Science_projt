{
 "cells": [
  {
   "cell_type": "markdown",
   "id": "119c0c65",
   "metadata": {},
   "source": [
    "## **Network Science Homework 2**\n",
    "# **PageRank, Communities and Subgraph Patterns**\n",
    "\n",
    "### **Students:**\n",
    "- Pedro Azevedo, up201905966@up.pt\n",
    "- Davi Santos, up202310061@up.pt\n",
    "- André Regufe, up202107760@up.pt\n",
    "\n",
    "### Work can be located in [here](https://github.com/wesdpre/Network_Science_projt)"
   ]
  },
  {
   "cell_type": "markdown",
   "id": "1437bbd6",
   "metadata": {},
   "source": [
    "# **Link Analysis and PageRank**"
   ]
  },
  {
   "cell_type": "markdown",
   "id": "bc7b9714",
   "metadata": {},
   "source": [
    "#### **QUESTION 1. Draw a graph with at least 6 nodes in which one node has a very high value of PageRank, although the same node has low closeness and betweenness centrality (don’t forget to point out the node).**"
   ]
  },
  {
   "cell_type": "markdown",
   "id": "34d2a457",
   "metadata": {},
   "source": [
    "#### **QUESTION 2. The damping factor in PageRank (parameter β, in slides) controls how of often we follow one of the links of the current node vs going to an arbitrary node on the network.**\n",
    "- **(a) What does β = 0 mean? What would happen to the PageRank values in that case? Why?**"
   ]
  },
  {
   "cell_type": "markdown",
   "id": "17c73cfe",
   "metadata": {},
   "source": [
    "- **(b) What does β = 1 mean? Can you explain a possible problem with using that value?**"
   ]
  },
  {
   "cell_type": "markdown",
   "id": "f20f67c7",
   "metadata": {},
   "source": [
    "#### **QUESTION 3. Implement a program (in any programming language) for manually computing the (normalized) PageRank values of a small network using power iterations (the ”flow” mode). Attach the program to your homework submission with a very short description on how it works.**"
   ]
  },
  {
   "cell_type": "markdown",
   "id": "beeaff0e",
   "metadata": {},
   "source": [
    "#### **QUESTION 4. Use your program to compute the PageRank values of the following network (with β = 0.85). Show the values of all nodes for each iteration until the computation converges.**"
   ]
  },
  {
   "cell_type": "markdown",
   "id": "4dfc2a9b",
   "metadata": {},
   "source": [
    "#### **QUESTION 5. Use the program to do computations varying the β parameter from 0.0 to 1.0 in steps of 0.05 and:**\n",
    "- **(a) Show in a plot the number of iterations needed until convergence is reached as you change β. Can you explain what is happening?**"
   ]
  },
  {
   "cell_type": "markdown",
   "id": "b2753234",
   "metadata": {},
   "source": [
    "- **(b) Show in a plot the different PageRank values of all nodes as your change β. Can you divide the nodes into different curve behaviors? Can you explain what is happening?**"
   ]
  },
  {
   "cell_type": "markdown",
   "id": "54e10786",
   "metadata": {},
   "source": [
    "# **Community Discovery**"
   ]
  },
  {
   "cell_type": "markdown",
   "id": "879cd5e9",
   "metadata": {},
   "source": [
    "**QUESTION 6. For this exercise you will be asked to analyze a set of undirected networks depicting the ”social networks” (character co-occurrences in a scene) of movies.**\n",
    "**You should download the following zip file: [movies.zip](http://www.dcc.fc.up.pt/~pribeiro/aulas/ns2425/homework/movies.zip). It contains:**\n",
    "\n",
    "- **Nodes and edges (csv format) for 773 different movies from 1915 to 2012**\n",
    "- **a movies.csv file with meta data, indicating which movie name, IMDB id, release year, number of nodes and edges**\n",
    "-  **A readme file describing the original source of the dataset**\n",
    "\n",
    "**Start by opening the files on a text editor to see how they internally look like.**"
   ]
  },
  {
   "cell_type": "markdown",
   "id": "7e15a936",
   "metadata": {},
   "source": [
    "- **QUESTION (a) Select any six networks of the dataset and using Gephi, networkx or any other platform/library, you should run Louvain Algorithm to find the best possible communities and create a table showing: id of the dataset, name of the movie, number of nodes and edges, number of communities found and modularity for those communities. Give a brief comment on which networks seem to present community structure, and why.**"
   ]
  },
  {
   "cell_type": "markdown",
   "id": "2f50326e",
   "metadata": {},
   "source": [
    "- **QUESTION (b) Choose any two of the movies (that are not different chapters of the same universe) and produce visualizations for the networks, labeling the nodes with their character names, using colors to represent communities and the size of the nodes to represent PageRank values. Try to make the picture as aesthetically pleasing as possible, reinforcing the community structure (and explain how you created the layout). Give a brief informal description on the meaning of the communities in the context of the movie (are they what you were expecting? are they\n",
    "meaningful? choose movies that you are familiar with and that you believe should have community structure).**"
   ]
  },
  {
   "cell_type": "markdown",
   "id": "95009f38",
   "metadata": {},
   "source": [
    "- **QUESTION (c) Implement a program (in any programming language) for manually computing the (normalized) modularity of a network when given a partition. Test it on one movie of your choice and the on the partitions you produced on the previous questions (and report if the value seems ok). Attach the program to your homework submission with a very short description on how it works and how I could run it.**\n",
    "\n",
    "**The modularity can be computed as:**\n",
    "´´´´"
   ]
  },
  {
   "cell_type": "markdown",
   "id": "6ebc9910",
   "metadata": {},
   "source": [
    "- **QUESTION **"
   ]
  },
  {
   "cell_type": "markdown",
   "id": "b84815ed",
   "metadata": {},
   "source": [
    "- **QUESTION **"
   ]
  },
  {
   "cell_type": "markdown",
   "id": "18bd3ac0",
   "metadata": {},
   "source": [
    "# **Network Motifs**"
   ]
  }
 ],
 "metadata": {
  "kernelspec": {
   "display_name": "NLP",
   "language": "python",
   "name": "python3"
  },
  "language_info": {
   "name": "python",
   "version": "3.12.9"
  }
 },
 "nbformat": 4,
 "nbformat_minor": 5
}
