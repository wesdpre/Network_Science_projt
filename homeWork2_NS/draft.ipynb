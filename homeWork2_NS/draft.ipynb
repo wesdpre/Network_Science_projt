{
 "cells": [
  {
   "cell_type": "markdown",
   "id": "119c0c65",
   "metadata": {},
   "source": [
    "## **Network Science Homework 2**\n",
    "# **PageRank, Communities and Subgraph Patterns**\n",
    "\n",
    "### **Students:**\n",
    "- Pedro Azevedo, up201905966@up.pt\n",
    "- Davi Santos, up202310061@up.pt\n",
    "- André Regufe, up202107760@up.pt\n",
    "\n",
    "### Work can be located in [here](https://github.com/wesdpre/Network_Science_projt)\n",
    "\n",
    "it was use a LLM (Gemini 2.5 Pro Preview 05-06) for hell to write the questions and answers in a correct format for the  Jupyter Notebook"
   ]
  },
  {
   "cell_type": "markdown",
   "id": "1437bbd6",
   "metadata": {},
   "source": [
    "# **Link Analysis and PageRank**"
   ]
  },
  {
   "cell_type": "markdown",
   "id": "bc7b9714",
   "metadata": {},
   "source": [
    "#### **QUESTION 1. Draw a graph with at least 6 nodes in which one node has a very high value of PageRank, although the same node has low closeness and betweenness centrality (don’t forget to point out the node).**"
   ]
  },
  {
   "cell_type": "markdown",
   "id": "0d693f13",
   "metadata": {},
   "source": [
    "**Answer**: \n",
    "\n",
    "."
   ]
  },
  {
   "cell_type": "markdown",
   "id": "34d2a457",
   "metadata": {},
   "source": [
    "#### **QUESTION 2. The damping factor in PageRank (parameter β, in slides) controls how of often we follow one of the links of the current node vs going to an arbitrary node on the network.**\n",
    "- **(a) What does β = 0 mean? What would happen to the PageRank values in that case? Why?**"
   ]
  },
  {
   "cell_type": "markdown",
   "id": "1cd6e1a7",
   "metadata": {},
   "source": [
    "**Answer**: \n",
    "\n",
    "."
   ]
  },
  {
   "cell_type": "markdown",
   "id": "17c73cfe",
   "metadata": {},
   "source": [
    "- **(b) What does β = 1 mean? Can you explain a possible problem with using that value?**"
   ]
  },
  {
   "cell_type": "markdown",
   "id": "9a1988d1",
   "metadata": {},
   "source": [
    "**Answer**: \n",
    "\n",
    "."
   ]
  },
  {
   "cell_type": "markdown",
   "id": "f20f67c7",
   "metadata": {},
   "source": [
    "#### **QUESTION 3. Implement a program (in any programming language) for manually computing the (normalized) PageRank values of a small network using power iterations (the ”flow” mode). Attach the program to your homework submission with a very short description on how it works.**"
   ]
  },
  {
   "cell_type": "markdown",
   "id": "bcc62360",
   "metadata": {},
   "source": [
    "**Answer**: \n",
    "\n",
    "."
   ]
  },
  {
   "cell_type": "markdown",
   "id": "beeaff0e",
   "metadata": {},
   "source": [
    "#### **QUESTION 4. Use your program to compute the PageRank values of the following network (with β = 0.85). Show the values of all nodes for each iteration until the computation converges.**"
   ]
  },
  {
   "cell_type": "markdown",
   "id": "fa92b022",
   "metadata": {},
   "source": [
    "**Answer**: \n",
    "\n",
    "."
   ]
  },
  {
   "cell_type": "markdown",
   "id": "4dfc2a9b",
   "metadata": {},
   "source": [
    "#### **QUESTION 5. Use the program to do computations varying the β parameter from 0.0 to 1.0 in steps of 0.05 and:**\n",
    "- **(a) Show in a plot the number of iterations needed until convergence is reached as you change β. Can you explain what is happening?**"
   ]
  },
  {
   "cell_type": "markdown",
   "id": "5fadd516",
   "metadata": {},
   "source": [
    "**Answer**: \n",
    "\n",
    "."
   ]
  },
  {
   "cell_type": "markdown",
   "id": "b2753234",
   "metadata": {},
   "source": [
    "- **(b) Show in a plot the different PageRank values of all nodes as your change β. Can you divide the nodes into different curve behaviors? Can you explain what is happening?**"
   ]
  },
  {
   "cell_type": "markdown",
   "id": "22eeb045",
   "metadata": {},
   "source": [
    "**Answer**: \n",
    "\n",
    "."
   ]
  },
  {
   "cell_type": "markdown",
   "id": "54e10786",
   "metadata": {},
   "source": [
    "# **Community Discovery**"
   ]
  },
  {
   "cell_type": "markdown",
   "id": "879cd5e9",
   "metadata": {},
   "source": [
    "**QUESTION 6** \n",
    "\n",
    "For this exercise you will be asked to analyze a set of undirected networks depicting the **”social networks”** (character co-occurrences in a scene) of **movies**.\n",
    "\n",
    "You should download the following zip file: [movies.zip](http://www.dcc.fc.up.pt/~pribeiro/aulas/ns2425/homework/movies.zip). It contains:\n",
    "\n",
    "- Nodes and edges (csv format) for 773 different movies from 1915 to 2012\n",
    "- a movies.csv file with meta data, indicating which movie name, IMDB id, release year, number of nodes and edges\n",
    "- A readme file describing the original source of the dataset\n",
    "\n",
    "Start by opening the files on a text editor to see how they internally look like."
   ]
  },
  {
   "cell_type": "markdown",
   "id": "7e15a936",
   "metadata": {},
   "source": [
    "- **QUESTION (a)** \n",
    "\n",
    "Select any six networks of the dataset and using Gephi, networkx or any other platform/library, you should run **Louvain Algorithm** to find the best possible communities and **create a table showing**: id of the dataset, name of the movie, number of nodes and edges, number of communities found and modularity for those communities. Give a brief comment on which networks seem to present **community structure**, and why."
   ]
  },
  {
   "cell_type": "markdown",
   "id": "8a4f207e",
   "metadata": {},
   "source": [
    "**Answer**: \n",
    "\n",
    "."
   ]
  },
  {
   "cell_type": "markdown",
   "id": "2f50326e",
   "metadata": {},
   "source": [
    "- **QUESTION (b)** \n",
    "\n",
    "Choose **any two of the movies** (that are not different chapters of the same universe) and produce **visualizations for the networks**, labeling the nodes with their character names, using colors to represent communities and the size of the nodes to represent PageRank values. Try to make the picture as **aesthetically pleasing** as possible, reinforcing the community structure (and explain how you created the layout). Give a brief **informal description on the meaning of the communities** in the context of the movie (are they what you were expecting? are they meaningful? choose movies that you are familiar with and that you believe should have community structure)."
   ]
  },
  {
   "cell_type": "markdown",
   "id": "2817b1af",
   "metadata": {},
   "source": [
    "**Answer**: \n",
    "\n",
    "."
   ]
  },
  {
   "cell_type": "markdown",
   "id": "95009f38",
   "metadata": {},
   "source": [
    "- **QUESTION (c)** \n",
    "\n",
    "**Implement a program** (in any programming language) for manually computing the (normalized) **modularity of a network when given a partition**. Test it on one movie of your choice and the on the partitions you produced on the previous questions (and report if the value seems ok). Attach the program to your homework submission with a very short description on how it works and how I could run it.\n",
    "\n",
    "The modularity can be computed as:\n",
    "$$\n",
    "Modularity = \\frac{1} {2 m} \\left( \\sum_{i,j  \\in V} \\left(A_{ij} - \\frac{K_i K_j} {2 m}\\right) \\delta\\left(C_i, C_j\\right) \\right) \n",
    "$$\n",
    "Where A is the adjacency matrix of the graph, Ci is the community to which node i belongs, ki is the degree of node i, m is the total number of edges and V is the set of nodes."
   ]
  },
  {
   "cell_type": "markdown",
   "id": "e1d50757",
   "metadata": {},
   "source": [
    "**Answer**: \n",
    "\n",
    "."
   ]
  },
  {
   "cell_type": "markdown",
   "id": "6ebc9910",
   "metadata": {},
   "source": [
    "- **QUESTION (d)**\n",
    "\n",
    "**Implement** (in any programming language) a **simple greedy agglomerative algorithm**: start with each node being a separated community and then do successive iterations in which you try\n",
    "all possible changes for one node (that is, for each node i ∈ V , try changing its community to all possible communities j ∈ C), and apply the change that produces the best gain in modularity (if there is ties, choose any possible). Attach the program to your homework submission with a very short description on how it works.\n",
    "\n",
    "Using one of the movies from from the previous questions, make a **plot showing the modularity increase** as you are making more iterations until you reach you a ”local maximum”, and report the communities you found (as a visualization), comparing them to the communities found previously.\n"
   ]
  },
  {
   "cell_type": "markdown",
   "id": "9967358b",
   "metadata": {},
   "source": [
    "**Answer**: \n",
    "\n",
    "."
   ]
  },
  {
   "cell_type": "markdown",
   "id": "b84815ed",
   "metadata": {},
   "source": [
    "- **QUESTION (e)**\n",
    "\n",
    "Using your previous program as a basis, explain how could you obtain a **larger quantity of communities**? And how could you obtain **less communities**?"
   ]
  },
  {
   "cell_type": "markdown",
   "id": "d4c91ff5",
   "metadata": {},
   "source": [
    "**Answer**: \n",
    "\n",
    "."
   ]
  },
  {
   "cell_type": "markdown",
   "id": "18bd3ac0",
   "metadata": {},
   "source": [
    "# **Network Motifs**"
   ]
  },
  {
   "cell_type": "markdown",
   "id": "98004f91",
   "metadata": {},
   "source": [
    "**QUESTION 7.** \n",
    "\n",
    "For this part of your homework it is highly advisable that you use the [gtrieScanner](http://www.dcc.fc.up.pt/gtries/) tool. You should download, unzip and compile this version: [gtrieScanner_src_01.zip](http://www.dcc.fc.up.pt/~pribeiro/aulas/ns2425/homework/gtrieScanner_src_01.zip) (it is the same as the version online with a newly added ”-raw” option to help you on the homework plus some pre-computed g-tries)\n",
    "\n",
    "\n",
    "Your first task is to be able to compile the source code. You will need a C++ compiler and make tools. If you have Linux you can simply use g++ and make available on any common distribution. If you use Windows we suggest you use [WSL](https://docs.microsoft.com/en-us/windows/wsl/install) or [Cygwin](https://www.cygwin.com/) to have a shell with Linux-like functionality.\n",
    "\n",
    "#### **Counting subgraphs**\n"
   ]
  },
  {
   "cell_type": "markdown",
   "id": "5413f2dc",
   "metadata": {},
   "source": [
    "- **QUESTION (a)**\n",
    "\n",
    "\n",
    "Consider the following undirected network:\n",
    "\n",
    "![network_diagram](data/Q7/network_diagram.png)\n",
    "\n",
    "The frequency (number of occurrences of size 3) of subgraphs of size 3 in this network is:\n",
    "\n",
    "| Subgraph                                   | Frequency |\n",
    "| :----------------------------------------: | :-------: |\n",
    "| <img src=\"data/Q7/subgraph_p3_image.png\" alt=\"P3 chain\" style=\"height: 1.2em; vertical-align: middle;\">| 18        |\n",
    "| <img src=\"data/Q7/subgraph_k3_image.png\" alt=\"K3 triangle\" style=\"height: 1.2em; vertical-align: middle;\">  | 2         |\n",
    "\n",
    "You could obtain these results by running (for instance) one of the following commands: \n",
    "```\n",
    "./gtrieScanner -s 3 -m esu -g network.txt -f simple \n",
    "./gtrieScanner -s 3 -m gtrie undir3.gt -g network.txt -f simple \n",
    "```\n",
    "supposing that **network.txt** is a text file containing the description of the network as an adjacency list: one line per edge, each line containing two integers separated by a space, the endpoints of the respective edge (the file should have 12 lines, the first of which could be 1 2, for example).\n",
    "\n",
    "**Your task here is to determine the number of occurrences of all subgraphs of size 4 in this network.** You should put in the report a table like the one shown above (the html version of the output is \"broken\", so you should produce your own images of the subgraphs)\n"
   ]
  },
  {
   "cell_type": "markdown",
   "id": "8f4a1649",
   "metadata": {},
   "source": [
    "**Answer**: \n",
    "\n",
    "."
   ]
  },
  {
   "cell_type": "markdown",
   "id": "d1d07460",
   "metadata": {},
   "source": [
    "#### **A bit of math: subgraphs in purely random networks**\n",
    "- **QUESTION (b)**\n",
    "\n",
    "Imagine you have a $G_{np}$ undirected Erd˝os–R´enyi random network. What is its expected number of triangles ( <img src=\"data/Q7/subgraph_k3_image.png\" alt=\"K3 triangle\" style=\"height: 1.2em; vertical-align: middle;\">)? And what about the expected number of chains (<img src=\"data/Q7/subgraph_p3_image.png\" alt=\"P3 chain\" style=\"height: 1.2em; vertical-align: middle;\">)? Justify your answer. \n",
    "\n",
    "Note that you can test your theory by generating Erd˝os–R´enyi networks and counting the subgraphs using gtrieScanner, but your answer should be stated as formulas involving $n$ and $p$.\n"
   ]
  },
  {
   "cell_type": "markdown",
   "id": "58dd7c10",
   "metadata": {},
   "source": [
    "**Answer**: \n",
    "\n",
    "."
   ]
  },
  {
   "cell_type": "markdown",
   "id": "fa59061a",
   "metadata": {},
   "source": [
    "#### **Back to empirical findings: uncovering motifs in bacteria**\n",
    "- **QUESTION (c)**\n",
    "\n",
    "Your task is now to find some network motifs of the transcriptional regulation directed network of the bacteria [Escherichia coli](https://en.wikipedia.org/wiki/Escherichia_coli). Start by downloading the network as a weighted adjacency list: [ecoli.txt](http://www.dcc.fc.up.pt/~pribeiro/aulas/ns2425/homework/ecoli.txt) (each line is an edge in the format start node end node weight)\n",
    "\n",
    "This directed network is ready for being fed to gtrieScanner. For example you could run:\n",
    "```\n",
    "./gtrieScanner -s 3 -d -m gtrie dir3.gt -g ecoli.txt\n",
    "```\n",
    "This would compute the frequency of all possible 13 types of size 3 subgraphs, and it should show you that the most frequent one is the following, appearing 250 times:\n",
    "\n",
    "<img src=\"data/Q7/subgraph_o3_image.png\" alt=\"P3 chain\" style=\"height: 1.2em; vertical-align: middle;\">\n",
    "\n",
    "Now, if you add the ”-r n” option, it should produce n networks with the same degree sequence and it will you show you how often each subgraph appears on it. For example:\n",
    "```\n",
    "./gtrieScanner -s 3 -m gtrie dir3.gt -d -g ecoli.txt -r 500 -raw\n",
    "```\n",
    "**Check the results and report on what is the more overrepresented subgraph, including its z-score (Z), frequency on the original network (real), average number of occurrences (avgR) and standard deviation (stdevR)) on the randomized networks**.\n",
    "\n",
    "The z-score of subgraph i is computed as $Z_i = \\frac {(real_i − avgR_i)} {stdevR_i}$ as in ([Milo et al. 2004](https://www.weizmann.ac.il/mcb/UriAlon/sites/mcb.UriAlon/files/uploads/CollectionsOfComplexNetwroks/superfamilies_of_evolved_and_designed_networks.pdf)).\n",
    "\n",
    "Notice how the most frequent subgraph is not the most significant one. Check if your very simplistic analysis is consistent with the known literature ([Milo et al. 2002](https://www.weizmann.ac.il/plants/Milo/sites/plants.Milo/files/publications/824.full_.pdf)) ([Shen-Orr et al. 2002](http://courses.cms.caltech.edu/cs191/paperscs191/alon2002.pdf)), that is, if the motif you found is also reported (**what is the name given to this motif ?**)\n"
   ]
  },
  {
   "cell_type": "markdown",
   "id": "23de20c4",
   "metadata": {},
   "source": [
    "**Answer**: \n",
    "\n",
    "."
   ]
  },
  {
   "cell_type": "markdown",
   "id": "3af41b30",
   "metadata": {},
   "source": [
    "#### **Characterizing families of networks using motifs**\n",
    "\n",
    "Start by carefully reading the following paper: \n",
    "\n",
    "[Milo et al. ”Superfamilies of evolved and designed networks.” Science 303.5663 (2004)](https://www.weizmann.ac.il/mcb/UriAlon/sites/mcb.UriAlon/files/uploads/CollectionsOfComplexNetwroks/superfamilies_of_evolved_and_designed_networks.pdf) \n",
    "\n",
    "The idea here is to perform a very similar analysis, even using some of the same networks!"
   ]
  },
  {
   "cell_type": "markdown",
   "id": "54bfc9fb",
   "metadata": {},
   "source": [
    "- **QUESTION (d)**\n",
    "\n",
    "Download this set of 8 directed networks: networks.zip (inside the zip there is a [README.txt](http://www.dcc.fc.up.pt/~pribeiro/aulas/ns2425/homework/networks.zip) explaining what is each network). **Use gtrieScanner to compute motif fingerprints of all networks. You should produce and include in the report the following:**\n",
    "-  Plot(s) showing the (normalized) significance profile (SP) of all 13 directed motifs of size 3 for each network. Try to expose the similarity between groups of networks. It should be clear to which subgraph corresponds each data point (ex: see figure 1 of the paper).\n",
    "- One heat map of 8 × 8 cells showing the correlation between the SPs of all pairs of networks (ex: see figure 2 of the paper).\n",
    "- A visual description of the main characteristic motifs of each group of networks (that is, you should draw them). Can you give an interpretation on why are they so significant?\n",
    "\n",
    "You should use at least 100 random networks for each original network and you can opt to ignore subgraphs that occur only once in the original network (attributing a z-score of zero to them).\n",
    "\n",
    "For normalizing the z-scores use the suggested formula: $ S P_i = \\frac{Z_i} { \\sqrt{ \\sum{} \\left( Z^2_i \\right)} }$\n",
    "\n",
    "For the heat map you can use any sofware. R and Python have several possible packages, but even Excel or LibreOffice will suffice (use range conditional formatting). You even have some possible [online alternatives](http://www.heatmapper.ca/). If you know about it, you can even use a clustering algorithm to produce a dendrogram showcasing the relationship between the families of networks.\n"
   ]
  },
  {
   "cell_type": "markdown",
   "id": "ce29cbcc",
   "metadata": {},
   "source": [
    "**Answer**: \n",
    "\n",
    "."
   ]
  },
  {
   "cell_type": "markdown",
   "id": "571d3e1c",
   "metadata": {},
   "source": [
    "- **QUESTION (e)**\n",
    "\n",
    "**Your task is to find the ”family” of the three ”unknown” networks** given in [unknown.zip](http://www.dcc.fc.up.pt/~pribeiro/aulas/ns2425/homework/unknown.zip) You should justify your answer by computing and plotting their motif significance profiles and\n",
    "by adding them to the previous heatmap. Each network will clearly belong to one of the groups discovered on the previous question."
   ]
  },
  {
   "cell_type": "markdown",
   "id": "2a7a223e",
   "metadata": {},
   "source": [
    "**Answer**: \n",
    "\n",
    "."
   ]
  }
 ],
 "metadata": {
  "kernelspec": {
   "display_name": "NLP",
   "language": "python",
   "name": "python3"
  },
  "language_info": {
   "name": "python",
   "version": "3.12.9"
  }
 },
 "nbformat": 4,
 "nbformat_minor": 5
}
