{
 "cells": [
  {
   "cell_type": "code",
   "execution_count": null,
   "id": "c277c8a4",
   "metadata": {},
   "outputs": [],
   "source": [
    "from networkx.algorithms.community.quality import modularity"
   ]
  },
  {
   "cell_type": "code",
   "execution_count": 27,
   "id": "98bb3d4d",
   "metadata": {},
   "outputs": [],
   "source": [
    "import networkx as nx\n",
    "# Example graph\n",
    "G = nx.karate_club_graph()"
   ]
  },
  {
   "cell_type": "code",
   "execution_count": null,
   "id": "4ee0e707",
   "metadata": {},
   "outputs": [],
   "source": [
    "def get_intra_community_modularity_2(G, comm):   \n",
    "    total_weight_in_graph = G.size(weight='weight')\n",
    "    def curr_combination_density(G, i, j, total_weight_in_graph):\n",
    "        curr_comb_weight = G[i][j]['weight'] if G.has_edge(i,j) else 0 #Aij\n",
    "        Ki = G.degree(i, weight='weight') \n",
    "        Kj = G.degree(j, weight='weight')\n",
    "        curr_combination_density = ((curr_comb_weight * total_weight_in_graph) - Ki * Kj) / total_weight_in_graph\n",
    "        return curr_combination_density\n",
    "    community_mod = sum(curr_combination_density(G, u, v, total_weight_in_graph) for u, v in G.edges(comm) if u in comm and v in comm)\n",
    "    community_mod = community_mod / total_weight_in_graph\n",
    "    print(\"Community modularity:\", community_mod)\n",
    "    \n",
    "    return community_mod"
   ]
  },
  {
   "cell_type": "code",
   "execution_count": 2,
   "id": "624850a3",
   "metadata": {},
   "outputs": [],
   "source": [
    "from itertools import combinations\n",
    "\n",
    "def greedy_agglomerative(G):\n",
    "    # Step 1: Initialize each node as its own community\n",
    "    communities = [{node} for node in G.nodes()]\n",
    "    \n",
    "    # Track improvement\n",
    "    improved = True\n",
    "    \n",
    "    while improved:\n",
    "        best_increase = float('-inf')\n",
    "        best_merge = None\n",
    "\n",
    "        # Step 2: Try all community pairs\n",
    "        for c1, c2 in combinations(communities, 2):\n",
    "            merged = c1.union(c2)\n",
    "\n",
    "            # Compute modularity for the merged community\n",
    "            mod_merged = get_intra_community_modularity_2(G, merged)\n",
    "\n",
    "            # Compute modularity of individual communities\n",
    "            mod_c1 = get_intra_community_modularity_2(G, c1)\n",
    "            mod_c2 = get_intra_community_modularity_2(G, c2)\n",
    "\n",
    "            gain = mod_merged - (mod_c1 + mod_c2)\n",
    "\n",
    "            if gain > best_increase:\n",
    "                best_increase = gain\n",
    "                best_merge = (c1, c2)\n",
    "\n",
    "        # Step 3: Merge the best pair if improvement\n",
    "        if best_merge and best_increase > 0:\n",
    "            c1, c2 = best_merge\n",
    "            communities.remove(c1)\n",
    "            communities.remove(c2)\n",
    "            communities.append(c1.union(c2))\n",
    "        else:\n",
    "            improved = False  # No further improvement\n",
    "\n",
    "    return communities"
   ]
  },
  {
   "cell_type": "code",
   "execution_count": 113,
   "id": "fc2b55cd",
   "metadata": {},
   "outputs": [],
   "source": [
    "from itertools import starmap\n",
    "\n",
    "def get_intra_community_modularity(G, comm):\n",
    "  n_edges = len(G.edges())\n",
    "  print(\"Number of edges in the graph:\", n_edges)\n",
    "\n",
    "  community_mod = sum(wt for u, v, wt in G.edges(comm, data=\"weight\"))\n",
    "  def get_random_probability(Ku, Kv, n_edges):\n",
    "      \"\"\"Calculate the random probability for a pair of nodes.\"\"\"\n",
    "      return (Ku * Kv) / (2 * n_edges)\n",
    "\n",
    "  randomic_edges_mod = sum(\n",
    "              list(starmap(get_random_probability, \n",
    "                ((G.degree(u), G.degree(v), n_edges) for u, v in G.edges(comm)))))\n",
    "\n",
    "  sum_mod_fraction= community_mod - randomic_edges_mod\n",
    "  final_com_mod = sum_mod_fraction / (2 * randomic_edges_mod)\n",
    "  return final_com_mod\n",
    "\n",
    "\n",
    "# print(\"x:\", x) \n",
    "\n",
    "# def intra_community_edges_analysis():\n",
    "    "
   ]
  },
  {
   "cell_type": "code",
   "execution_count": 126,
   "id": "67e8cc97",
   "metadata": {},
   "outputs": [
    {
     "name": "stdout",
     "output_type": "stream",
     "text": [
      "Number of edges in the graph: 78\n"
     ]
    },
    {
     "ename": "NetworkXError",
     "evalue": "Node {0, 1, 2} in sequence nbunch is not a valid node.",
     "output_type": "error",
     "traceback": [
      "\u001b[31m---------------------------------------------------------------------------\u001b[39m",
      "\u001b[31mTypeError\u001b[39m                                 Traceback (most recent call last)",
      "\u001b[36mFile \u001b[39m\u001b[32mc:\\Users\\davib\\AppData\\Local\\Programs\\Python\\Python312\\Lib\\site-packages\\networkx\\classes\\graph.py:2041\u001b[39m, in \u001b[36mGraph.nbunch_iter.<locals>.bunch_iter\u001b[39m\u001b[34m(nlist, adj)\u001b[39m\n\u001b[32m   2040\u001b[39m \u001b[38;5;28;01mfor\u001b[39;00m n \u001b[38;5;129;01min\u001b[39;00m nlist:\n\u001b[32m-> \u001b[39m\u001b[32m2041\u001b[39m     \u001b[38;5;28;01mif\u001b[39;00m \u001b[43mn\u001b[49m\u001b[43m \u001b[49m\u001b[38;5;129;43;01min\u001b[39;49;00m\u001b[43m \u001b[49m\u001b[43madj\u001b[49m:\n\u001b[32m   2042\u001b[39m         \u001b[38;5;28;01myield\u001b[39;00m n\n",
      "\u001b[31mTypeError\u001b[39m: unhashable type: 'set'",
      "\nDuring handling of the above exception, another exception occurred:\n",
      "\u001b[31mNetworkXError\u001b[39m                             Traceback (most recent call last)",
      "\u001b[36mCell\u001b[39m\u001b[36m \u001b[39m\u001b[32mIn[126]\u001b[39m\u001b[32m, line 2\u001b[39m\n\u001b[32m      1\u001b[39m comm = [{\u001b[32m0\u001b[39m,\u001b[32m1\u001b[39m,\u001b[32m2\u001b[39m}, {\u001b[32m3\u001b[39m}]\n\u001b[32m----> \u001b[39m\u001b[32m2\u001b[39m \u001b[43mget_intra_community_modularity\u001b[49m\u001b[43m(\u001b[49m\u001b[43mG\u001b[49m\u001b[43m,\u001b[49m\u001b[43m \u001b[49m\u001b[43mcomm\u001b[49m\u001b[43m)\u001b[49m\n\u001b[32m      3\u001b[39m modularity_value = modularity(G, comm)\n\u001b[32m      4\u001b[39m \u001b[38;5;28mprint\u001b[39m(\u001b[33m\"\u001b[39m\u001b[33mModularity value:\u001b[39m\u001b[33m\"\u001b[39m, modularity_value)\n",
      "\u001b[36mCell\u001b[39m\u001b[36m \u001b[39m\u001b[32mIn[113]\u001b[39m\u001b[32m, line 7\u001b[39m, in \u001b[36mget_intra_community_modularity\u001b[39m\u001b[34m(G, comm)\u001b[39m\n\u001b[32m      4\u001b[39m n_edges = \u001b[38;5;28mlen\u001b[39m(G.edges())\n\u001b[32m      5\u001b[39m \u001b[38;5;28mprint\u001b[39m(\u001b[33m\"\u001b[39m\u001b[33mNumber of edges in the graph:\u001b[39m\u001b[33m\"\u001b[39m, n_edges)\n\u001b[32m----> \u001b[39m\u001b[32m7\u001b[39m community_mod = \u001b[38;5;28msum\u001b[39m(wt \u001b[38;5;28;01mfor\u001b[39;00m u, v, wt \u001b[38;5;129;01min\u001b[39;00m \u001b[43mG\u001b[49m\u001b[43m.\u001b[49m\u001b[43medges\u001b[49m\u001b[43m(\u001b[49m\u001b[43mcomm\u001b[49m\u001b[43m,\u001b[49m\u001b[43m \u001b[49m\u001b[43mdata\u001b[49m\u001b[43m=\u001b[49m\u001b[33;43m\"\u001b[39;49m\u001b[33;43mweight\u001b[39;49m\u001b[33;43m\"\u001b[39;49m\u001b[43m)\u001b[49m)\n\u001b[32m      8\u001b[39m \u001b[38;5;28;01mdef\u001b[39;00m\u001b[38;5;250m \u001b[39m\u001b[34mget_random_probability\u001b[39m(Ku, Kv, n_edges):\n\u001b[32m      9\u001b[39m \u001b[38;5;250m    \u001b[39m\u001b[33;03m\"\"\"Calculate the random probability for a pair of nodes.\"\"\"\u001b[39;00m\n",
      "\u001b[36mFile \u001b[39m\u001b[32mc:\\Users\\davib\\AppData\\Local\\Programs\\Python\\Python312\\Lib\\site-packages\\networkx\\classes\\reportviews.py:1105\u001b[39m, in \u001b[36mOutEdgeView.__call__\u001b[39m\u001b[34m(self, nbunch, data, default)\u001b[39m\n\u001b[32m   1103\u001b[39m \u001b[38;5;28;01mif\u001b[39;00m nbunch \u001b[38;5;129;01mis\u001b[39;00m \u001b[38;5;28;01mNone\u001b[39;00m \u001b[38;5;129;01mand\u001b[39;00m data \u001b[38;5;129;01mis\u001b[39;00m \u001b[38;5;28;01mFalse\u001b[39;00m:\n\u001b[32m   1104\u001b[39m     \u001b[38;5;28;01mreturn\u001b[39;00m \u001b[38;5;28mself\u001b[39m\n\u001b[32m-> \u001b[39m\u001b[32m1105\u001b[39m \u001b[38;5;28;01mreturn\u001b[39;00m \u001b[38;5;28;43mself\u001b[39;49m\u001b[43m.\u001b[49m\u001b[43mdataview\u001b[49m\u001b[43m(\u001b[49m\u001b[38;5;28;43mself\u001b[39;49m\u001b[43m,\u001b[49m\u001b[43m \u001b[49m\u001b[43mnbunch\u001b[49m\u001b[43m,\u001b[49m\u001b[43m \u001b[49m\u001b[43mdata\u001b[49m\u001b[43m,\u001b[49m\u001b[43m \u001b[49m\u001b[43mdefault\u001b[49m\u001b[43m=\u001b[49m\u001b[43mdefault\u001b[49m\u001b[43m)\u001b[49m\n",
      "\u001b[36mFile \u001b[39m\u001b[32mc:\\Users\\davib\\AppData\\Local\\Programs\\Python\\Python312\\Lib\\site-packages\\networkx\\classes\\reportviews.py:778\u001b[39m, in \u001b[36mOutEdgeDataView.__init__\u001b[39m\u001b[34m(self, viewer, nbunch, data, default)\u001b[39m\n\u001b[32m    775\u001b[39m     \u001b[38;5;28mself\u001b[39m._nodes_nbrs = adjdict.items\n\u001b[32m    776\u001b[39m \u001b[38;5;28;01melse\u001b[39;00m:\n\u001b[32m    777\u001b[39m     \u001b[38;5;66;03m# dict retains order of nodes but acts like a set\u001b[39;00m\n\u001b[32m--> \u001b[39m\u001b[32m778\u001b[39m     nbunch = \u001b[38;5;28;43mdict\u001b[39;49m\u001b[43m.\u001b[49m\u001b[43mfromkeys\u001b[49m\u001b[43m(\u001b[49m\u001b[43mviewer\u001b[49m\u001b[43m.\u001b[49m\u001b[43m_graph\u001b[49m\u001b[43m.\u001b[49m\u001b[43mnbunch_iter\u001b[49m\u001b[43m(\u001b[49m\u001b[43mnbunch\u001b[49m\u001b[43m)\u001b[49m\u001b[43m)\u001b[49m\n\u001b[32m    779\u001b[39m     \u001b[38;5;28mself\u001b[39m._nodes_nbrs = \u001b[38;5;28;01mlambda\u001b[39;00m: [(n, adjdict[n]) \u001b[38;5;28;01mfor\u001b[39;00m n \u001b[38;5;129;01min\u001b[39;00m nbunch]\n\u001b[32m    780\u001b[39m \u001b[38;5;28mself\u001b[39m._nbunch = nbunch\n",
      "\u001b[36mFile \u001b[39m\u001b[32mc:\\Users\\davib\\AppData\\Local\\Programs\\Python\\Python312\\Lib\\site-packages\\networkx\\classes\\graph.py:2055\u001b[39m, in \u001b[36mGraph.nbunch_iter.<locals>.bunch_iter\u001b[39m\u001b[34m(nlist, adj)\u001b[39m\n\u001b[32m   2051\u001b[39m \u001b[38;5;28;01mif\u001b[39;00m \u001b[33m\"\u001b[39m\u001b[33mhashable\u001b[39m\u001b[33m\"\u001b[39m \u001b[38;5;129;01min\u001b[39;00m message:\n\u001b[32m   2052\u001b[39m     exc = NetworkXError(\n\u001b[32m   2053\u001b[39m         \u001b[33mf\u001b[39m\u001b[33m\"\u001b[39m\u001b[33mNode \u001b[39m\u001b[38;5;132;01m{\u001b[39;00mn\u001b[38;5;132;01m}\u001b[39;00m\u001b[33m in sequence nbunch is not a valid node.\u001b[39m\u001b[33m\"\u001b[39m\n\u001b[32m   2054\u001b[39m     )\n\u001b[32m-> \u001b[39m\u001b[32m2055\u001b[39m \u001b[38;5;28;01mraise\u001b[39;00m exc\n",
      "\u001b[31mNetworkXError\u001b[39m: Node {0, 1, 2} in sequence nbunch is not a valid node."
     ]
    }
   ],
   "source": [
    "comm = [{0,1,2}, {3}]\n",
    "get_intra_community_modularity(G, comm)\n",
    "modularity_value = modularity(G, comm)\n",
    "print(\"Modularity value:\", modularity_value)"
   ]
  },
  {
   "cell_type": "code",
   "execution_count": null,
   "id": "cfbeed72",
   "metadata": {},
   "outputs": [
    {
     "name": "stdout",
     "output_type": "stream",
     "text": [
      "Number of edges in the graph: 78\n",
      "Intra-community modularity: 2.962616822429907\n"
     ]
    }
   ],
   "source": [
    "print(\"Intra-community modularity:\", get_intra_community_modularity(G, comm))"
   ]
  }
 ],
 "metadata": {
  "kernelspec": {
   "display_name": "Python 3",
   "language": "python",
   "name": "python3"
  },
  "language_info": {
   "codemirror_mode": {
    "name": "ipython",
    "version": 3
   },
   "file_extension": ".py",
   "mimetype": "text/x-python",
   "name": "python",
   "nbconvert_exporter": "python",
   "pygments_lexer": "ipython3",
   "version": "3.12.7"
  }
 },
 "nbformat": 4,
 "nbformat_minor": 5
}
